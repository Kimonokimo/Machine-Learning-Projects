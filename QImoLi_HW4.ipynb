{
 "cells": [
  {
   "cell_type": "code",
   "execution_count": 1,
   "metadata": {},
   "outputs": [],
   "source": [
    "# Import lots of tools\n",
    "import pandas as pd\n",
    "import numpy as np\n",
    "from sklearn.naive_bayes import GaussianNB\n",
    "from sklearn.model_selection import train_test_split\n",
    "from sklearn.discriminant_analysis import LinearDiscriminantAnalysis\n",
    "from sklearn.linear_model import LogisticRegression\n",
    "from sklearn.svm import LinearSVC\n",
    "from sklearn.neighbors import KNeighborsClassifier\n",
    "from sklearn.tree import DecisionTreeClassifier"
   ]
  },
  {
   "cell_type": "markdown",
   "metadata": {},
   "source": [
    "# Problem Set 4\n",
    "**Qimo Li and Ran Dou talked and assisted with each other, and submitted the assignment individually.**"
   ]
  },
  {
   "cell_type": "markdown",
   "metadata": {},
   "source": [
    "This problem is a basic test on a real data set of some of our classifiers. We will define a core test as a 50 length monte-carlo run of a train/test split.  \n",
    "The data set represents information on credit card account, and whether the customers default or not. There are several fields and descriptions are linked here. However at the moment these are not necessary.  \n",
    "The notebook tries to find the datafile in your current directory with the name defaultBal.csv. You can do what you want, but make sure this all lines up in the notebook (read_csv).  \n",
    "The notebook gives an example with a Naive Bayes rule. It shows how to run a 50 length monte-carlo on varying train/test sets, and stores train/test accuracy measures. This is your basic framework to use. "
   ]
  },
  {
   "cell_type": "code",
   "execution_count": 2,
   "metadata": {},
   "outputs": [
    {
     "name": "stdout",
     "output_type": "stream",
     "text": [
      "(12450, 23)\n",
      "0.5330923694779116\n"
     ]
    },
    {
     "data": {
      "text/html": [
       "<div>\n",
       "<style scoped>\n",
       "    .dataframe tbody tr th:only-of-type {\n",
       "        vertical-align: middle;\n",
       "    }\n",
       "\n",
       "    .dataframe tbody tr th {\n",
       "        vertical-align: top;\n",
       "    }\n",
       "\n",
       "    .dataframe thead th {\n",
       "        text-align: right;\n",
       "    }\n",
       "</style>\n",
       "<table border=\"1\" class=\"dataframe\">\n",
       "  <thead>\n",
       "    <tr style=\"text-align: right;\">\n",
       "      <th></th>\n",
       "      <th>id</th>\n",
       "      <th>LIMIT_BAL</th>\n",
       "      <th>SEX</th>\n",
       "      <th>EDUCATION</th>\n",
       "      <th>MARRIAGE</th>\n",
       "      <th>AGE</th>\n",
       "      <th>PAY_0</th>\n",
       "      <th>PAY_2</th>\n",
       "      <th>PAY_3</th>\n",
       "      <th>PAY_4</th>\n",
       "      <th>...</th>\n",
       "      <th>BILL_AMT4</th>\n",
       "      <th>BILL_AMT5</th>\n",
       "      <th>BILL_AMT6</th>\n",
       "      <th>PAY_AMT1</th>\n",
       "      <th>PAY_AMT2</th>\n",
       "      <th>PAY_AMT3</th>\n",
       "      <th>PAY_AMT4</th>\n",
       "      <th>PAY_AMT5</th>\n",
       "      <th>PAY_AMT6</th>\n",
       "      <th>default</th>\n",
       "    </tr>\n",
       "  </thead>\n",
       "  <tbody>\n",
       "    <tr>\n",
       "      <th>0</th>\n",
       "      <td>1</td>\n",
       "      <td>20000</td>\n",
       "      <td>2</td>\n",
       "      <td>2</td>\n",
       "      <td>1</td>\n",
       "      <td>24</td>\n",
       "      <td>2</td>\n",
       "      <td>2</td>\n",
       "      <td>-1</td>\n",
       "      <td>-1</td>\n",
       "      <td>...</td>\n",
       "      <td>0</td>\n",
       "      <td>0</td>\n",
       "      <td>0</td>\n",
       "      <td>0</td>\n",
       "      <td>689</td>\n",
       "      <td>0</td>\n",
       "      <td>0</td>\n",
       "      <td>0</td>\n",
       "      <td>0</td>\n",
       "      <td>1</td>\n",
       "    </tr>\n",
       "    <tr>\n",
       "      <th>1</th>\n",
       "      <td>1</td>\n",
       "      <td>20000</td>\n",
       "      <td>2</td>\n",
       "      <td>2</td>\n",
       "      <td>1</td>\n",
       "      <td>24</td>\n",
       "      <td>2</td>\n",
       "      <td>2</td>\n",
       "      <td>-1</td>\n",
       "      <td>-1</td>\n",
       "      <td>...</td>\n",
       "      <td>0</td>\n",
       "      <td>0</td>\n",
       "      <td>0</td>\n",
       "      <td>0</td>\n",
       "      <td>689</td>\n",
       "      <td>0</td>\n",
       "      <td>0</td>\n",
       "      <td>0</td>\n",
       "      <td>0</td>\n",
       "      <td>1</td>\n",
       "    </tr>\n",
       "    <tr>\n",
       "      <th>2</th>\n",
       "      <td>2</td>\n",
       "      <td>120000</td>\n",
       "      <td>2</td>\n",
       "      <td>2</td>\n",
       "      <td>2</td>\n",
       "      <td>26</td>\n",
       "      <td>-1</td>\n",
       "      <td>2</td>\n",
       "      <td>0</td>\n",
       "      <td>0</td>\n",
       "      <td>...</td>\n",
       "      <td>3272</td>\n",
       "      <td>3455</td>\n",
       "      <td>3261</td>\n",
       "      <td>0</td>\n",
       "      <td>1000</td>\n",
       "      <td>1000</td>\n",
       "      <td>1000</td>\n",
       "      <td>0</td>\n",
       "      <td>2000</td>\n",
       "      <td>1</td>\n",
       "    </tr>\n",
       "    <tr>\n",
       "      <th>3</th>\n",
       "      <td>6</td>\n",
       "      <td>50000</td>\n",
       "      <td>1</td>\n",
       "      <td>1</td>\n",
       "      <td>2</td>\n",
       "      <td>37</td>\n",
       "      <td>0</td>\n",
       "      <td>0</td>\n",
       "      <td>0</td>\n",
       "      <td>0</td>\n",
       "      <td>...</td>\n",
       "      <td>19394</td>\n",
       "      <td>19619</td>\n",
       "      <td>20024</td>\n",
       "      <td>2500</td>\n",
       "      <td>1815</td>\n",
       "      <td>657</td>\n",
       "      <td>1000</td>\n",
       "      <td>1000</td>\n",
       "      <td>800</td>\n",
       "      <td>0</td>\n",
       "    </tr>\n",
       "    <tr>\n",
       "      <th>4</th>\n",
       "      <td>9</td>\n",
       "      <td>140000</td>\n",
       "      <td>2</td>\n",
       "      <td>3</td>\n",
       "      <td>1</td>\n",
       "      <td>28</td>\n",
       "      <td>0</td>\n",
       "      <td>0</td>\n",
       "      <td>2</td>\n",
       "      <td>0</td>\n",
       "      <td>...</td>\n",
       "      <td>12211</td>\n",
       "      <td>11793</td>\n",
       "      <td>3719</td>\n",
       "      <td>3329</td>\n",
       "      <td>0</td>\n",
       "      <td>432</td>\n",
       "      <td>1000</td>\n",
       "      <td>1000</td>\n",
       "      <td>1000</td>\n",
       "      <td>0</td>\n",
       "    </tr>\n",
       "  </tbody>\n",
       "</table>\n",
       "<p>5 rows × 25 columns</p>\n",
       "</div>"
      ],
      "text/plain": [
       "   id  LIMIT_BAL  SEX  EDUCATION  MARRIAGE  AGE  PAY_0  PAY_2  PAY_3  PAY_4  \\\n",
       "0   1      20000    2          2         1   24      2      2     -1     -1   \n",
       "1   1      20000    2          2         1   24      2      2     -1     -1   \n",
       "2   2     120000    2          2         2   26     -1      2      0      0   \n",
       "3   6      50000    1          1         2   37      0      0      0      0   \n",
       "4   9     140000    2          3         1   28      0      0      2      0   \n",
       "\n",
       "    ...     BILL_AMT4  BILL_AMT5  BILL_AMT6  PAY_AMT1  PAY_AMT2  PAY_AMT3  \\\n",
       "0   ...             0          0          0         0       689         0   \n",
       "1   ...             0          0          0         0       689         0   \n",
       "2   ...          3272       3455       3261         0      1000      1000   \n",
       "3   ...         19394      19619      20024      2500      1815       657   \n",
       "4   ...         12211      11793       3719      3329         0       432   \n",
       "\n",
       "   PAY_AMT4  PAY_AMT5  PAY_AMT6  default  \n",
       "0         0         0         0        1  \n",
       "1         0         0         0        1  \n",
       "2      1000         0      2000        1  \n",
       "3      1000      1000       800        0  \n",
       "4      1000      1000      1000        0  \n",
       "\n",
       "[5 rows x 25 columns]"
      ]
     },
     "execution_count": 2,
     "metadata": {},
     "output_type": "execute_result"
    }
   ],
   "source": [
    "credit = pd.read_csv(\"/Users/liqimo/desktop/defaultBal.csv\")\n",
    "y = credit.default\n",
    "Xall= credit.values[:,1:24]\n",
    "X = Xall.copy()\n",
    "print(X.shape)\n",
    "print(np.mean(y))\n",
    "yGuess = np.mean(y)\n",
    "credit.head()"
   ]
  },
  {
   "cell_type": "markdown",
   "metadata": {},
   "source": [
    "### Naive Bayes example"
   ]
  },
  {
   "cell_type": "code",
   "execution_count": 3,
   "metadata": {},
   "outputs": [
    {
     "name": "stdout",
     "output_type": "stream",
     "text": [
      "The score on the train data set is 0.5661\n",
      "The score on the test data set is 0.5535\n"
     ]
    }
   ],
   "source": [
    "# Try a naive Bayes classifier\n",
    "gnb = GaussianNB()\n",
    "X_train, X_test, y_train, y_test = train_test_split(X,y,test_size=0.25)\n",
    "trainFit = gnb.fit(X_train,y_train)\n",
    "print(\"The score on the train data set is {:.4f}\".format(trainFit.score(X_train,y_train)))\n",
    "print(\"The score on the test data set is {:.4f}\".format(trainFit.score(X_test, y_test)))"
   ]
  },
  {
   "cell_type": "code",
   "execution_count": 4,
   "metadata": {},
   "outputs": [
    {
     "name": "stdout",
     "output_type": "stream",
     "text": [
      "The mean of the train data set is 0.5668\n",
      "The standard deviation of the train data set is 0.0036\n",
      "The mean of the test data set is 0.5638\n",
      "The standard deviation of the test data set is 0.0091\n",
      "The probability of beating a benchmark classifier is 1.0\n"
     ]
    }
   ],
   "source": [
    "# start monte-carlo for GaussianNB()\n",
    "nmc = 50\n",
    "trainScore = np.zeros(nmc)\n",
    "testScore  = np.zeros(nmc)\n",
    "gnb = GaussianNB()\n",
    "for i in range(nmc):\n",
    "    X_train, X_test, y_train, y_test = train_test_split(X,y,test_size=0.25)\n",
    "    trainFit = gnb.fit(X_train,y_train)\n",
    "    trainScore[i] = trainFit.score(X_train,y_train)\n",
    "    testScore[i] =  trainFit.score(X_test,y_test)\n",
    "print(\"The mean of the train data set is {:.4f}\".format(np.mean(trainScore)))\n",
    "print(\"The standard deviation of the train data set is {:.4f}\".format(np.std(trainScore)))\n",
    "print(\"The mean of the test data set is {:.4f}\".format(np.mean(testScore)))\n",
    "print(\"The standard deviation of the test data set is {:.4f}\".format(np.std(testScore)))\n",
    "print(\"The probability of beating a benchmark classifier is {}\".format(np.mean(testScore>yGuess)))"
   ]
  },
  {
   "cell_type": "markdown",
   "metadata": {},
   "source": [
    "### 1. Repeat the monte-carlo with a LinearDiscriminant classifier. Report means, std’s, and probability of beating a benchmark classifier which guesses 1 all the time."
   ]
  },
  {
   "cell_type": "code",
   "execution_count": 5,
   "metadata": {},
   "outputs": [
    {
     "name": "stdout",
     "output_type": "stream",
     "text": [
      "The mean of the train data set is 0.6518\n",
      "The standard deviation of the train data set is 0.0035\n",
      "The mean of the test data set is 0.6520\n",
      "The standard deviation of the test data set is 0.0080\n",
      "The probability of beating a benchmark classifier is 1.0\n"
     ]
    }
   ],
   "source": [
    "nmc = 50\n",
    "trainScore = np.zeros(nmc)\n",
    "testScore = np.zeros(nmc)\n",
    "LDA = LinearDiscriminantAnalysis()\n",
    "for i in range(nmc):\n",
    "    X_train, X_test, y_train, y_test = train_test_split(X,y,test_size=0.25)\n",
    "    trainFit = LDA.fit(X_train,y_train)\n",
    "    trainScore[i] = trainFit.score(X_train,y_train)\n",
    "    testScore[i] =  trainFit.score(X_test,y_test)\n",
    "print(\"The mean of the train data set is {:.4f}\".format(np.mean(trainScore)))\n",
    "print(\"The standard deviation of the train data set is {:.4f}\".format(np.std(trainScore)))\n",
    "print(\"The mean of the test data set is {:.4f}\".format(np.mean(testScore)))\n",
    "print(\"The standard deviation of the test data set is {:.4f}\".format(np.std(testScore)))\n",
    "print(\"The probability of beating a benchmark classifier is {}\".format(np.mean(testScore>yGuess)))"
   ]
  },
  {
   "cell_type": "markdown",
   "metadata": {},
   "source": [
    "### 2. Repeat this with Logistic regression for C=100, C=1, C=0.01."
   ]
  },
  {
   "cell_type": "code",
   "execution_count": 6,
   "metadata": {},
   "outputs": [
    {
     "name": "stdout",
     "output_type": "stream",
     "text": [
      "When C = 100:\n",
      "The mean of the train data set is 0.6315\n",
      "The standard deviation of the train data set is 0.0064\n",
      "The mean of the test data set is 0.6303\n",
      "The standard deviation of the test data set is 0.0100\n",
      "The probability of beating a benchmark classifier is 1.0\n",
      "When C = 1:\n",
      "The mean of the train data set is 0.6310\n",
      "The standard deviation of the train data set is 0.0070\n",
      "The mean of the test data set is 0.6305\n",
      "The standard deviation of the test data set is 0.0109\n",
      "The probability of beating a benchmark classifier is 1.0\n",
      "When C = 0.01:\n",
      "The mean of the train data set is 0.6328\n",
      "The standard deviation of the train data set is 0.0077\n",
      "The mean of the test data set is 0.6311\n",
      "The standard deviation of the test data set is 0.0093\n",
      "The probability of beating a benchmark classifier is 1.0\n"
     ]
    }
   ],
   "source": [
    "nmc = 50\n",
    "trainScore = np.zeros(nmc)\n",
    "testScore = np.zeros(nmc)\n",
    "for c in [100, 1, 0.01]:\n",
    "    LR = LogisticRegression(C = c)\n",
    "    for i in range(nmc):\n",
    "        X_train, X_test, y_train, y_test = train_test_split(X,y,test_size=0.25)\n",
    "        trainFit = LR.fit(X_train,y_train)\n",
    "        trainScore[i] = trainFit.score(X_train,y_train)\n",
    "        testScore[i] =  trainFit.score(X_test,y_test)\n",
    "    print(\"When C = \" + str(c) + \":\")\n",
    "    print(\"The mean of the train data set is {:.4f}\".format(np.mean(trainScore)))\n",
    "    print(\"The standard deviation of the train data set is {:.4f}\".format(np.std(trainScore)))\n",
    "    print(\"The mean of the test data set is {:.4f}\".format(np.mean(testScore)))\n",
    "    print(\"The standard deviation of the test data set is {:.4f}\".format(np.std(testScore)))\n",
    "    print(\"The probability of beating a benchmark classifier is {}\".format(np.mean(testScore>yGuess)))"
   ]
  },
  {
   "cell_type": "markdown",
   "metadata": {},
   "source": [
    "### 3. Repeat this for a LinearSVC with C = 100, C=1, C=0.01"
   ]
  },
  {
   "cell_type": "code",
   "execution_count": 7,
   "metadata": {},
   "outputs": [
    {
     "name": "stdout",
     "output_type": "stream",
     "text": [
      "When C = 100:\n",
      "The mean of the train data set is 0.5431\n",
      "The standard deviation of the train data set is 0.0381\n",
      "The mean of the test data set is 0.5426\n",
      "The standard deviation of the test data set is 0.0367\n",
      "The probability of beating a benchmark classifier is 0.68\n",
      "When C = 1:\n",
      "The mean of the train data set is 0.5362\n",
      "The standard deviation of the train data set is 0.0399\n",
      "The mean of the test data set is 0.5338\n",
      "The standard deviation of the test data set is 0.0404\n",
      "The probability of beating a benchmark classifier is 0.56\n",
      "When C = 0.01:\n",
      "The mean of the train data set is 0.5418\n",
      "The standard deviation of the train data set is 0.0333\n",
      "The mean of the test data set is 0.5423\n",
      "The standard deviation of the test data set is 0.0347\n",
      "The probability of beating a benchmark classifier is 0.64\n"
     ]
    }
   ],
   "source": [
    "nmc = 50\n",
    "trainScore = np.zeros(nmc)\n",
    "testScore = np.zeros(nmc)\n",
    "for c in [100, 1, 0.01]:\n",
    "    LSVC = LinearSVC(C = c)\n",
    "    for i in range(nmc):\n",
    "        X_train, X_test, y_train, y_test = train_test_split(X,y,test_size=0.25)\n",
    "        trainFit = LSVC.fit(X_train,y_train)\n",
    "        trainScore[i] = trainFit.score(X_train,y_train)\n",
    "        testScore[i] =  trainFit.score(X_test,y_test)\n",
    "    print(\"When C = \" + str(c) + \":\")\n",
    "    print(\"The mean of the train data set is {:.4f}\".format(np.mean(trainScore)))\n",
    "    print(\"The standard deviation of the train data set is {:.4f}\".format(np.std(trainScore)))\n",
    "    print(\"The mean of the test data set is {:.4f}\".format(np.mean(testScore)))\n",
    "    print(\"The standard deviation of the test data set is {:.4f}\".format(np.std(testScore)))\n",
    "    print(\"The probability of beating a benchmark classifier is {}\".format(np.mean(testScore>yGuess)))"
   ]
  },
  {
   "cell_type": "markdown",
   "metadata": {},
   "source": [
    "### 4. Repeat this for KNeighborClassifier for n_neighbors = 3, 11, 25"
   ]
  },
  {
   "cell_type": "code",
   "execution_count": 8,
   "metadata": {},
   "outputs": [
    {
     "name": "stdout",
     "output_type": "stream",
     "text": [
      "When n_neighbors = 3:\n",
      "The mean of the train data set is 0.7786\n",
      "The standard deviation of the train data set is 0.0029\n",
      "The mean of the test data set is 0.5698\n",
      "The standard deviation of the test data set is 0.0068\n",
      "The probability of beating a benchmark classifier is 1.0\n",
      "When n_neighbors = 11:\n",
      "The mean of the train data set is 0.6805\n",
      "The standard deviation of the train data set is 0.0035\n",
      "The mean of the test data set is 0.6001\n",
      "The standard deviation of the test data set is 0.0092\n",
      "The probability of beating a benchmark classifier is 1.0\n",
      "When n_neighbors = 25:\n",
      "The mean of the train data set is 0.6503\n",
      "The standard deviation of the train data set is 0.0035\n",
      "The mean of the test data set is 0.6102\n",
      "The standard deviation of the test data set is 0.0080\n",
      "The probability of beating a benchmark classifier is 1.0\n"
     ]
    }
   ],
   "source": [
    "nmc = 50\n",
    "trainScore = np.zeros(nmc)\n",
    "testScore = np.zeros(nmc)\n",
    "for n in [3, 11, 25]:\n",
    "    KNC = KNeighborsClassifier(n_neighbors = n)\n",
    "    for i in range(nmc):\n",
    "        X_train, X_test, y_train, y_test = train_test_split(X,y,test_size=0.25)\n",
    "        trainFit = KNC.fit(X_train,y_train)\n",
    "        trainScore[i] = trainFit.score(X_train,y_train)\n",
    "        testScore[i] =  trainFit.score(X_test,y_test)\n",
    "    print(\"When n_neighbors = \" + str(n) + \":\")\n",
    "    print(\"The mean of the train data set is {:.4f}\".format(np.mean(trainScore)))\n",
    "    print(\"The standard deviation of the train data set is {:.4f}\".format(np.std(trainScore)))\n",
    "    print(\"The mean of the test data set is {:.4f}\".format(np.mean(testScore)))\n",
    "    print(\"The standard deviation of the test data set is {:.4f}\".format(np.std(testScore)))\n",
    "    print(\"The probability of beating a benchmark classifier is {}\".format(np.mean(testScore>yGuess)))"
   ]
  },
  {
   "cell_type": "markdown",
   "metadata": {},
   "source": [
    "### 5. Repeat this for a Decision Tree with max_depth = 5, 10, 25"
   ]
  },
  {
   "cell_type": "code",
   "execution_count": 9,
   "metadata": {},
   "outputs": [
    {
     "name": "stdout",
     "output_type": "stream",
     "text": [
      "When max_depth = 5:\n",
      "The mean of the train data set is 0.7057\n",
      "The standard deviation of the train data set is 0.0033\n",
      "The mean of the test data set is 0.6873\n",
      "The standard deviation of the test data set is 0.0082\n",
      "The probability of beating a benchmark classifier is 1.0\n",
      "When max_depth = 10:\n",
      "The mean of the train data set is 0.7778\n",
      "The standard deviation of the train data set is 0.0054\n",
      "The mean of the test data set is 0.6764\n",
      "The standard deviation of the test data set is 0.0077\n",
      "The probability of beating a benchmark classifier is 1.0\n",
      "When max_depth = 25:\n",
      "The mean of the train data set is 0.9901\n",
      "The standard deviation of the train data set is 0.0051\n",
      "The mean of the test data set is 0.6210\n",
      "The standard deviation of the test data set is 0.0085\n",
      "The probability of beating a benchmark classifier is 1.0\n"
     ]
    }
   ],
   "source": [
    "nmc = 50\n",
    "trainScore = np.zeros(nmc)\n",
    "testScore = np.zeros(nmc)\n",
    "for depth in [5, 10, 25]:\n",
    "    DTC = DecisionTreeClassifier(max_depth = depth)\n",
    "    for i in range(nmc):\n",
    "        X_train, X_test, y_train, y_test = train_test_split(X,y,test_size=0.25)\n",
    "        trainFit = DTC.fit(X_train,y_train)\n",
    "        trainScore[i] = trainFit.score(X_train,y_train)\n",
    "        testScore[i] =  trainFit.score(X_test,y_test)\n",
    "    print(\"When max_depth = \" + str(depth) + \":\")\n",
    "    print(\"The mean of the train data set is {:.4f}\".format(np.mean(trainScore)))\n",
    "    print(\"The standard deviation of the train data set is {:.4f}\".format(np.std(trainScore)))\n",
    "    print(\"The mean of the test data set is {:.4f}\".format(np.mean(testScore)))\n",
    "    print(\"The standard deviation of the test data set is {:.4f}\".format(np.std(testScore)))\n",
    "    print(\"The probability of beating a benchmark classifier is {}\".format(np.mean(testScore>yGuess)))"
   ]
  },
  {
   "cell_type": "markdown",
   "metadata": {},
   "source": [
    "### 6. Repeat the linear LinearDiscriminant, but use just the real valued data. See example file for line to move just these fields into X."
   ]
  },
  {
   "cell_type": "code",
   "execution_count": 11,
   "metadata": {},
   "outputs": [
    {
     "name": "stdout",
     "output_type": "stream",
     "text": [
      "The mean of the train data set is 0.5754\n",
      "The standard deviation of the train data set is 0.0052\n",
      "The mean of the test data set is 0.5736\n",
      "The standard deviation of the test data set is 0.0090\n",
      "The probability of beating a benchmark classifier is 1.0\n"
     ]
    }
   ],
   "source": [
    "X = Xall[:,12:23].copy()\n",
    "nmc = 50\n",
    "trainScore = np.zeros(nmc)\n",
    "testScore = np.zeros(nmc)\n",
    "LDA_real = LinearDiscriminantAnalysis()\n",
    "for i in range(nmc):\n",
    "    X_train, X_test, y_train, y_test = train_test_split(X,y,test_size=0.25)\n",
    "    trainFit = LDA_real.fit(X_train,y_train)\n",
    "    trainScore[i] = trainFit.score(X_train,y_train)\n",
    "    testScore[i] =  trainFit.score(X_test,y_test)\n",
    "print(\"The mean of the train data set is {:.4f}\".format(np.mean(trainScore)))\n",
    "print(\"The standard deviation of the train data set is {:.4f}\".format(np.std(trainScore)))\n",
    "print(\"The mean of the test data set is {:.4f}\".format(np.mean(testScore)))\n",
    "print(\"The standard deviation of the test data set is {:.4f}\".format(np.std(testScore)))\n",
    "print(\"The probability of beating a benchmark classifier is {}\".format(np.mean(testScore>yGuess)))"
   ]
  },
  {
   "cell_type": "markdown",
   "metadata": {},
   "source": [
    "### 7. Using the mean test score from parts (1-5+GaussianNB), what was your best method (so far)?"
   ]
  },
  {
   "cell_type": "markdown",
   "metadata": {},
   "source": [
    "My best method so far is the Decision Tree, which has the high mean scores on both the train data and the test data."
   ]
  }
 ],
 "metadata": {
  "kernelspec": {
   "display_name": "Python 3",
   "language": "python",
   "name": "python3"
  },
  "language_info": {
   "codemirror_mode": {
    "name": "ipython",
    "version": 3
   },
   "file_extension": ".py",
   "mimetype": "text/x-python",
   "name": "python",
   "nbconvert_exporter": "python",
   "pygments_lexer": "ipython3",
   "version": "3.6.5"
  }
 },
 "nbformat": 4,
 "nbformat_minor": 2
}
