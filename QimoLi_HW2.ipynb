{
 "cells": [
  {
   "cell_type": "code",
   "execution_count": 2,
   "metadata": {},
   "outputs": [
    {
     "data": {
      "text/html": [
       "<style>\n",
       "body {\n",
       "    font-family: \"Times New Roman\";\n",
       "}\n",
       "</style>  "
      ],
      "text/plain": [
       "<IPython.core.display.HTML object>"
      ]
     },
     "metadata": {},
     "output_type": "display_data"
    }
   ],
   "source": [
    "%%html\n",
    "<style>\n",
    "body {\n",
    "    font-family: \"Times New Roman\";\n",
    "}\n",
    "</style>  "
   ]
  },
  {
   "cell_type": "code",
   "execution_count": 3,
   "metadata": {},
   "outputs": [],
   "source": [
    "import numpy as np\n",
    "import pandas as pd\n",
    "import matplotlib.pyplot as plt\n",
    "import sklearn\n",
    "from sklearn.model_selection import train_test_split"
   ]
  },
  {
   "cell_type": "markdown",
   "metadata": {},
   "source": [
    "# Problem Set 2\n",
    "### Due Wednesday, November 14 at midnight"
   ]
  },
  {
   "cell_type": "markdown",
   "metadata": {},
   "source": [
    "**Author:** Ran Dou, Qimo Li  \n",
    "**Date:** 2018/11/08"
   ]
  },
  {
   "cell_type": "markdown",
   "metadata": {},
   "source": [
    "**Directions:**  \n",
    "For each of the following problems, use Python to find your answers.  \n",
    "Show me the Python code you used in your answer.  "
   ]
  },
  {
   "cell_type": "markdown",
   "metadata": {},
   "source": [
    "### Problem 1: Write a short Python program to explore some simulated classification data. First generate a vector of length nmc=100 of uniform random numbers. Then use these to generate y values of 0 or 1, where the x value is the probability of y = 1. Here is some code to do this."
   ]
  },
  {
   "cell_type": "code",
   "execution_count": 4,
   "metadata": {},
   "outputs": [],
   "source": [
    "# These lines of code generate a feature and a class randomly with a monte-carlo\n",
    "# The features are uniform(0,1)\n",
    "# Class is a (0,1) integer where prob(1) = X[i]\n",
    "nmc = 100\n",
    "# X needs to be a matrix with nmc rows, and 1 column\n",
    "X = np.random.uniform(size=(nmc,1))\n",
    "Y = np.zeros(nmc,dtype=int)+(np.random.uniform(size=nmc)<X)\n",
    "# This is the code for splitting into test/train sets, note test_size argument\n",
    "X_train,X_test,Y_train,Y_test = train_test_split(X,Y,test_size=0.5)"
   ]
  },
  {
   "cell_type": "markdown",
   "metadata": {},
   "source": [
    "#### Write a Python program to do nearest neighbor prediction for y as we did in class. Divide your data (50/50) into a training and test set."
   ]
  },
  {
   "cell_type": "markdown",
   "metadata": {},
   "source": [
    "#### 1.1 Write a k nearest neighbor predictor for your data, using k=3. Report the accuracy both for the training and testing sample."
   ]
  },
  {
   "cell_type": "code",
   "execution_count": 5,
   "metadata": {},
   "outputs": [
    {
     "name": "stdout",
     "output_type": "stream",
     "text": [
      "Test set predictions: \n",
      "[[0 1 0 ... 1 0 1]\n",
      " [0 1 1 ... 1 0 1]\n",
      " [0 1 0 ... 1 0 1]\n",
      " ...\n",
      " [0 0 0 ... 0 0 1]\n",
      " [0 1 1 ... 1 0 1]\n",
      " [0 0 0 ... 0 0 1]]\n",
      "Train set accuracy: 0.68\n",
      "Test set accuracy: 0.48\n"
     ]
    }
   ],
   "source": [
    "from sklearn.neighbors import KNeighborsClassifier\n",
    "clf = KNeighborsClassifier(n_neighbors=3)\n",
    "clf.fit(X_train, Y_train)\n",
    "print(\"Test set predictions: \\n{}\".format(clf.predict(X_test)))\n",
    "clf.predict(X_test)\n",
    "print(\"Train set accuracy: {:.2f}\".format(clf.score(X_train, Y_train)))\n",
    "print(\"Test set accuracy: {:.2f}\".format(clf.score(X_test, Y_test)))"
   ]
  },
  {
   "cell_type": "markdown",
   "metadata": {},
   "source": [
    "#### 1.2 Now repeat the figure we tried in class which showed forecast accuracy in training and testing sets as k varies. Plot the accuracy for nearest neighbor predictors across the range of 1 to 50. Do this for both the training and testing data as we did in class."
   ]
  },
  {
   "cell_type": "code",
   "execution_count": 15,
   "metadata": {},
   "outputs": [
    {
     "data": {
      "text/plain": [
       "<matplotlib.legend.Legend at 0x117496048>"
      ]
     },
     "execution_count": 15,
     "metadata": {},
     "output_type": "execute_result"
    },
    {
     "data": {
      "image/png": "[encoded data removed]",
      "text/plain": [
       "<Figure size 432x288 with 1 Axes>"
      ]
     },
     "metadata": {},
     "output_type": "display_data"
    }
   ],
   "source": [
    "training_accuracy = []\n",
    "test_accuracy = []\n",
    "# try n_neighbors from 1 to 50\n",
    "neighbors_settings = range(1, 51)\n",
    "\n",
    "for n_neighbors in neighbors_settings:\n",
    "    # build the model\n",
    "    clf = KNeighborsClassifier(n_neighbors=n_neighbors)\n",
    "    clf.fit(X_train, Y_train)\n",
    "    # record training set accuracy\n",
    "    training_accuracy.append(clf.score(X_train, Y_train))\n",
    "    # record generalization accuracy\n",
    "    test_accuracy.append(clf.score(X_test, Y_test))\n",
    "    \n",
    "plt.plot(neighbors_settings, training_accuracy, label=\"training accuracy\")\n",
    "plt.plot(neighbors_settings, test_accuracy, label=\"test accuracy\")\n",
    "plt.ylabel(\"Accuracy\")\n",
    "plt.xlabel(\"n_neighbors\")\n",
    "plt.legend()"
   ]
  },
  {
   "cell_type": "markdown",
   "metadata": {},
   "source": [
    "### Problem 2: This problem explores linear regression along with ridge and lasso in a simple generated monte-carlo problem. First, to get things working you will need to load these routines into python."
   ]
  },
  {
   "cell_type": "code",
   "execution_count": 16,
   "metadata": {},
   "outputs": [],
   "source": [
    "# Load helpers\n",
    "# Will try to just load what I need on this\n",
    "%matplotlib inline\n",
    "import numpy as np\n",
    "from sklearn.model_selection import train_test_split\n",
    "from sklearn.linear_model import LinearRegression\n",
    "from sklearn.linear_model import Ridge\n",
    "from sklearn.linear_model import Lasso\n",
    "import matplotlib as mpl\n",
    "import matplotlib.pyplot as plt"
   ]
  },
  {
   "cell_type": "markdown",
   "metadata": {},
   "source": [
    "#### Now you will need to get the following function loaded."
   ]
  },
  {
   "cell_type": "code",
   "execution_count": 17,
   "metadata": {},
   "outputs": [],
   "source": [
    "# Function to generate linear data experiments\n",
    "def genLinData(N,M,noise):\n",
    "    # y = x_1 + x_2 .. x_M + eps\n",
    "    # X's scaled so the variance of explained part is same order as noise variance (if eps = 1)\n",
    "    sigNoise = np.sqrt(1./M)\n",
    "    # set up random beta for regression\n",
    "    beta = np.random.normal(size=(M,1),loc=0.,scale=1.)\n",
    "    # force smaller betas to zero\n",
    "    beta[abs(beta)<1.0]=0.\n",
    "    # bused is the fraction of nonzero beta's\n",
    "    betaUsed= np.sum( beta != 0)\n",
    "    X = np.random.normal(size=(N,M),loc=0,scale=sigNoise)\n",
    "    eps = np.random.normal(size=(N,1),loc=0,scale=noise)\n",
    "    # Python 2.7 users, this is the nifty new\n",
    "    # python 3.6 notation for matrices\n",
    "    # For nonmatrix students, this is the sum of the betas's time each X(m)\n",
    "    # across all i\n",
    "    y = X @ beta + eps\n",
    "    return X, y, betaUsed"
   ]
  },
  {
   "cell_type": "markdown",
   "metadata": {},
   "source": [
    "#### 2.1 First, generate one set of X, y data with sample length 300, with\n",
    "#### M = 50 forecast variables, and noise=1. Do a short (iterations 100) monte-carlo run with the same set of data, but different random train/test splits (don’t use the random_state parameter since that fixes the random draws). Set the test_size = 0.5 for all problems here. On each split fit a linear regression and record the train and test score (R-squared). Report the mean and standard deviation for both of these across the 100 monte-carlos. (Python note: This involves a for loop across the 100 monte-carlo runs. Each iteration of the loop involves a new train/test split of the original data. Store results in either list, or (better) a numpy array.) The following block illustrates a shell of a monte-carlo program as an example. Many of the pieces are not included."
   ]
  },
  {
   "cell_type": "code",
   "execution_count": 24,
   "metadata": {},
   "outputs": [
    {
     "name": "stdout",
     "output_type": "stream",
     "text": [
      "The score of test set are: \n",
      "[ 0.21799477  0.06271207  0.13246525  0.32716274  0.27903507  0.22268149\n",
      "  0.172577    0.03772856  0.19063846  0.24010703  0.06558764  0.24542435\n",
      "  0.148213   -0.09731108  0.32237321  0.23747455  0.14182391  0.26621512\n",
      "  0.26773231  0.03793054 -0.26304937  0.29664675  0.37102677  0.1565102\n",
      "  0.38286907  0.32736578  0.32195594  0.21171392  0.45981877  0.1417274\n",
      "  0.27395899  0.19140969  0.34633252  0.11758694  0.18511808  0.17183976\n",
      "  0.05627164  0.21440428  0.418219    0.09228243  0.06874367  0.06743722\n",
      "  0.32846865  0.29860937  0.33845494  0.26652718  0.28763112  0.19898767\n",
      "  0.09942671  0.12935197  0.27647551  0.04214382  0.25624124  0.27376336\n",
      "  0.01801858  0.20176481  0.11317897  0.11905094  0.213115    0.29790359\n",
      "  0.25147307  0.31324522  0.23816799  0.05212276  0.30822926  0.23948863\n",
      "  0.2301208   0.35237754  0.06318793  0.42857967  0.2741989   0.14076212\n",
      "  0.14538051  0.25163319  0.16478097  0.19091198  0.31487808  0.37164926\n",
      "  0.25043869  0.1677081   0.10576422 -0.05966339  0.17985698 -0.02574152\n",
      "  0.28238407  0.24683273  0.26051293  0.17442853 -0.00446818  0.19649169\n",
      "  0.11312551  0.20759078  0.37451799  0.29554015  0.10330402  0.31401592\n",
      " -0.10193224  0.18120452  0.12406667  0.15120682]\n",
      "Mean of train set R-squared: 0.65\n",
      "Standard deviation of train set R-squared: 0.04\n",
      "Mean of test set R-squared: 0.20\n",
      "Standard deviation of test set R-squared: 0.12\n"
     ]
    }
   ],
   "source": [
    "nmc = 100\n",
    "rsquaretrain = np.zeros(nmc)\n",
    "rsquaretest = np.zeros(nmc)\n",
    "X, y, betaUsed = genLinData(300,50,1)\n",
    "for i in range(nmc):\n",
    "    X_train, X_test, y_train, y_test = train_test_split(X, y, test_size = 0.5)\n",
    "    reg = LinearRegression().fit(X_train, y_train)\n",
    "    rsquaretrain[i] = reg.score(X_train,y_train)\n",
    "    rsquaretest[i] = reg.score(X_test,y_test)\n",
    "# Put statistics here, np.mean() and np.std()\n",
    "meantrain = np.mean(rsquaretrain)\n",
    "stdtrain = np.std(rsquaretrain)\n",
    "meantest = np.mean(rsquaretest)\n",
    "stdtest = np.std(rsquaretest)\n",
    "print(\"The score of test set are: \\n{}\".format(rsquaretest))\n",
    "print(\"Mean of train set R-squared: {:.2f}\".format(meantrain))\n",
    "print(\"Standard deviation of train set R-squared: {:.2f}\".format(stdtrain))\n",
    "print(\"Mean of test set R-squared: {:.2f}\".format(meantest))\n",
    "print(\"Standard deviation of test set R-squared: {:.2f}\".format(stdtest))"
   ]
  },
  {
   "cell_type": "markdown",
   "metadata": {},
   "source": [
    "#### 2.2 Run this regression once on a sample size of 100,000. Report train and test scores. Are they close? Why or why not?"
   ]
  },
  {
   "cell_type": "code",
   "execution_count": 65,
   "metadata": {},
   "outputs": [
    {
     "name": "stdout",
     "output_type": "stream",
     "text": [
      "Mean of train set R-squared: 0.40\n",
      "Standard deviation of train set R-squared: 0.00\n",
      "Mean of test set R-squared: 0.40\n",
      "Standard deviation of test set R-squared: 0.00\n",
      "The R-squared for the train and the test set are close. The reason is that as the number of data grow up, it is less possible for the regression to overfit the train set. Thus the regression becomes more accurate for both the train and the test sets.\n"
     ]
    }
   ],
   "source": [
    "nmc = 100\n",
    "rsquaretrain = np.zeros(nmc)\n",
    "rsquaretest = np.zeros(nmc)\n",
    "X, y, betaUsed = genLinData(100000,50,1)\n",
    "for i in range(nmc):\n",
    "    X_train, X_test, y_train, y_test = train_test_split(X, y, test_size = 0.5)\n",
    "    reg = LinearRegression().fit(X_train, y_train)\n",
    "    rsquaretrain[i] = reg.score(X_train,y_train)\n",
    "    rsquaretest[i] = reg.score(X_test,y_test)\n",
    "# Put statistics here, np.mean() and np.std()\n",
    "meantrain = np.mean(rsquaretrain)\n",
    "stdtrain = np.std(rsquaretrain)\n",
    "meantest = np.mean(rsquaretest)\n",
    "stdtest = np.std(rsquaretest)\n",
    "print(\"Mean of train set R-squared: {:.2f}\".format(meantrain))\n",
    "print(\"Standard deviation of train set R-squared: {:.2f}\".format(stdtrain))\n",
    "print(\"Mean of test set R-squared: {:.2f}\".format(meantest))\n",
    "print(\"Standard deviation of test set R-squared: {:.2f}\".format(stdtest))\n",
    "print(\"The R-squared for the train and the test set are close. The reason is that as the number of data grow up, it is less possible for the regression to overfit the train set. Thus the regression becomes more accurate for both the train and the test sets.\")"
   ]
  },
  {
   "cell_type": "markdown",
   "metadata": {},
   "source": [
    "#### 2.3 Now, run a monte-carlo (iterations 100) where on each run you draw a new data set (X, y) from a sample size of 300 (M=50, noise = 1.0) using the above function. On each run estimate a linear model, and record the training and testing scores, and save them. Report the mean and standard deviation for these scores."
   ]
  },
  {
   "cell_type": "code",
   "execution_count": 39,
   "metadata": {},
   "outputs": [
    {
     "name": "stdout",
     "output_type": "stream",
     "text": [
      "Mean of train set R-squared: 0.63\n",
      "Standard deviation of train set R-squared: 0.07\n",
      "Mean of test set R-squared: 0.16\n",
      "Standard deviation of test set R-squared: 0.15\n"
     ]
    }
   ],
   "source": [
    "nmc = 100\n",
    "rsquaretrain = np.zeros(nmc)\n",
    "rsquaretest = np.zeros(nmc)\n",
    "for i in range(nmc):\n",
    "    X, y, betaUsed = genLinData(300,50,1)\n",
    "    X_train, X_test, y_train, y_test = train_test_split(X, y, test_size = 0.5)\n",
    "    reg = LinearRegression().fit(X_train, y_train)\n",
    "    rsquaretrain[i] = reg.score(X_train,y_train)\n",
    "    rsquaretest[i] = reg.score(X_test,y_test)\n",
    "# Put statistics here, np.mean() and np.std()\n",
    "meantrain = np.mean(rsquaretrain)\n",
    "stdtrain = np.std(rsquaretrain)\n",
    "meantest = np.mean(rsquaretest)\n",
    "stdtest = np.std(rsquaretest)\n",
    "print(\"Mean of train set R-squared: {:.2f}\".format(meantrain))\n",
    "print(\"Standard deviation of train set R-squared: {:.2f}\".format(stdtrain))\n",
    "print(\"Mean of test set R-squared: {:.2f}\".format(meantest))\n",
    "print(\"Standard deviation of test set R-squared: {:.2f}\".format(stdtest))"
   ]
  },
  {
   "cell_type": "markdown",
   "metadata": {},
   "source": [
    "#### 2.4 Simulate one new data set using the parameters from the last problem.\n",
    "#### Now set up a Ridge regression. Set up a loop to sweep through alpha from 1 to 25 incremented by 1. Record the score for each ridge regression for each parameter. At the end, plot the R-squared scores for both the training and testing samples across the different values of alpha."
   ]
  },
  {
   "cell_type": "code",
   "execution_count": 38,
   "metadata": {},
   "outputs": [],
   "source": [
    "train_ridge_R = [ ]\n",
    "test_ridge_R = [ ]\n",
    "# try alpha from 1 to 25\n",
    "alpha_settings = range(1, 26)\n",
    "X, y, betaUsed = genLinData(300,50,1)\n",
    "for i in alpha_settings:\n",
    "    X_train, X_test, y_train, y_test = train_test_split(X, y, test_size = 0.5, random_state=0)\n",
    "    ridge = Ridge(alpha = i)\n",
    "    # build the model\n",
    "    ridge.fit(X_train, y_train)\n",
    "    # record training set accuracy\n",
    "    train_ridge_R.append(ridge.score(X_train, y_train))\n",
    "    # record generalization accuracy\n",
    "    test_ridge_R.append(ridge.score(X_test, y_test))"
   ]
  },
  {
   "cell_type": "code",
   "execution_count": 39,
   "metadata": {},
   "outputs": [
    {
     "data": {
      "text/plain": [
       "<matplotlib.legend.Legend at 0x1a23c51e10>"
      ]
     },
     "execution_count": 39,
     "metadata": {},
     "output_type": "execute_result"
    },
    {
     "data": {
      "image/png": "[encoded data removed]",
      "text/plain": [
       "<Figure size 432x288 with 1 Axes>"
      ]
     },
     "metadata": {},
     "output_type": "display_data"
    }
   ],
   "source": [
    "plt.plot(alpha_settings, train_ridge_R, label=\"training R square\")\n",
    "plt.plot(alpha_settings, test_ridge_R, label=\"test R square\")\n",
    "plt.ylabel(\"R square\")\n",
    "plt.xlabel(\"alpha\")\n",
    "plt.title(\"Ridge\")\n",
    "plt.legend()"
   ]
  },
  {
   "cell_type": "markdown",
   "metadata": {},
   "source": [
    "#### 2.5 Now repeat this for a Lasso regression. However, this time sweep the alpha parameter from 0.01 through 0.03 incremented by 0.0005. Plot the two scores as you did in the last problem. Also, this time plot the number of non zero coefficients estimated by Lasso as a fraction of the true non zero coefficients from the simulation."
   ]
  },
  {
   "cell_type": "code",
   "execution_count": 44,
   "metadata": {},
   "outputs": [],
   "source": [
    "train_lasso_R = [ ]\n",
    "test_lasso_R = [ ]\n",
    "ratio = [ ]\n",
    "# try alpha from 1 to 25\n",
    "alpha_settings = np.arange(0.01, 0.0305, 0.0005)\n",
    "X, y, betaUsed = genLinData(300,50,1)\n",
    "for i in alpha_settings:\n",
    "    X_train, X_test, y_train, y_test = train_test_split(X, y, test_size = 0.5, random_state=0)\n",
    "    lasso = Lasso(alpha = i)\n",
    "    # build the model\n",
    "    lasso.fit(X_train, y_train)\n",
    "    # record training set accuracy\n",
    "    train_lasso_R.append(lasso.score(X_train, y_train))\n",
    "    # record generalization accuracy\n",
    "    test_lasso_R.append(lasso.score(X_test, y_test))\n",
    "    # calculate the fraction of coefficient usage\n",
    "    ratio.append(np.sum(lasso.coef_ != 0)/betaUsed)"
   ]
  },
  {
   "cell_type": "code",
   "execution_count": 61,
   "metadata": {},
   "outputs": [
    {
     "data": {
      "text/plain": [
       "<matplotlib.legend.Legend at 0x1a23d5be48>"
      ]
     },
     "execution_count": 61,
     "metadata": {},
     "output_type": "execute_result"
    },
    {
     "data": {
      "image/png": "[encoded data removed]",
      "text/plain": [
       "<Figure size 432x288 with 1 Axes>"
      ]
     },
     "metadata": {},
     "output_type": "display_data"
    }
   ],
   "source": [
    "plt.plot(alpha_settings, train_lasso_R, label=\"training R square\")\n",
    "plt.plot(alpha_settings, test_lasso_R, label=\"test R square\")\n",
    "plt.ylabel(\"R square\")\n",
    "plt.xlabel(\"alpha\")\n",
    "plt.title(\"Lasso\")\n",
    "plt.legend()"
   ]
  },
  {
   "cell_type": "code",
   "execution_count": 45,
   "metadata": {},
   "outputs": [
    {
     "data": {
      "text/plain": [
       "Text(0.5,1,'Lasso')"
      ]
     },
     "execution_count": 45,
     "metadata": {},
     "output_type": "execute_result"
    },
    {
     "data": {
      "image/png": "[encoded data removed]",
      "text/plain": [
       "<Figure size 432x288 with 1 Axes>"
      ]
     },
     "metadata": {},
     "output_type": "display_data"
    }
   ],
   "source": [
    "plt.plot(alpha_settings, ratio)\n",
    "plt.ylabel(\"Ratio of non-zero coefficient\")\n",
    "plt.xlabel(\"alpha\")\n",
    "plt.title(\"Lasso\")"
   ]
  }
 ],
 "metadata": {
  "kernelspec": {
   "display_name": "Python 3",
   "language": "python",
   "name": "python3"
  },
  "language_info": {
   "codemirror_mode": {
    "name": "ipython",
    "version": 3
   },
   "file_extension": ".py",
   "mimetype": "text/x-python",
   "name": "python",
   "nbconvert_exporter": "python",
   "pygments_lexer": "ipython3",
   "version": "3.6.5"
  }
 },
 "nbformat": 4,
 "nbformat_minor": 2
}
